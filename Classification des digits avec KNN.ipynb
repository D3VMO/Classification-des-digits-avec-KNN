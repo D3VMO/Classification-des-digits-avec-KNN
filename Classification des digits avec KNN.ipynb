{
  "nbformat": 4,
  "nbformat_minor": 0,
  "metadata": {
    "colab": {
      "name": "Devoir1 de tp1(Mohamed elibrahimi).ipynb",
      "provenance": [],
      "collapsed_sections": [],
      "toc_visible": true
    },
    "kernelspec": {
      "name": "python3",
      "display_name": "Python 3"
    }
  },
  "cells": [
    {
      "cell_type": "markdown",
      "metadata": {
        "id": "LZM-GOathwf4"
      },
      "source": [
        "#Devoir1 de tp1\n",
        "####Classification des digits avec KNN .ET application de validation croisée avec 5fold sur l’ensemble d’entraînement.pour choisir le modèle (n_neighbors=k) qui a la meilleure performance...\n",
        "###réalisé par : MOHAMED El ibrahimi"
      ]
    },
    {
      "cell_type": "code",
      "metadata": {
        "id": "MDddZ7mZBImI"
      },
      "source": [
        "\n",
        "from sklearn.model_selection import train_test_split\n",
        "from sklearn.neighbors import KNeighborsClassifier\n",
        "from sklearn.metrics import classification_report\n",
        "from sklearn import datasets\n",
        "\n",
        "import numpy as np\n",
        "import matplotlib.pyplot as plt\n"
      ],
      "execution_count": 70,
      "outputs": []
    },
    {
      "cell_type": "code",
      "metadata": {
        "id": "UZ5YJNkFBRux"
      },
      "source": [
        "from sklearn.model_selection import KFold\n",
        "from sklearn.model_selection import cross_val_score"
      ],
      "execution_count": 71,
      "outputs": []
    },
    {
      "cell_type": "code",
      "metadata": {
        "id": "jLjJuyKYEvT0",
        "outputId": "f28e9c31-fda2-4e88-966e-0cb1ae551611",
        "colab": {
          "base_uri": "https://localhost:8080/"
        }
      },
      "source": [
        "# load the MNIST digits dataset\n",
        "mnist = datasets.load_digits()\n",
        "# print data(feature)shape\n",
        "print (mnist.data.shape)"
      ],
      "execution_count": 72,
      "outputs": [
        {
          "output_type": "stream",
          "text": [
            "(1797, 64)\n"
          ],
          "name": "stdout"
        }
      ]
    },
    {
      "cell_type": "markdown",
      "metadata": {
        "id": "JfPZs8OehVk2"
      },
      "source": [
        "### Training and testing split, 75% for training and 25% for testing"
      ]
    },
    {
      "cell_type": "code",
      "metadata": {
        "id": "N0yjHmpKaPHr"
      },
      "source": [
        "(trainData, testData, trainLabels, testLabels) = train_test_split(mnist.data, mnist.target, test_size=0.25,random_state=42)\n"
      ],
      "execution_count": 73,
      "outputs": []
    },
    {
      "cell_type": "markdown",
      "metadata": {
        "id": "IShAfBFFhcNj"
      },
      "source": [
        "### initialize the values of k for our k-Nearest Neighbor classifier along with the\n"
      ]
    },
    {
      "cell_type": "code",
      "metadata": {
        "id": "uOQ_03M0QMuV"
      },
      "source": [
        "# initialize the values of k for our k-Nearest Neighbor classifier along with the\n",
        "# list of accuracies for each value of k\n",
        "kVals = range(1, 10, 2)\n"
      ],
      "execution_count": 74,
      "outputs": []
    },
    {
      "cell_type": "code",
      "metadata": {
        "id": "p_-kPgAEEsIU"
      },
      "source": [
        "def get_score(model, X_train, X_test, y_train, y_test):\n",
        "    model.fit(X_train, y_train)\n",
        "    # evaluate the model and print the accuracies list\n",
        "    return model.score(X_test, y_test)*100"
      ],
      "execution_count": 75,
      "outputs": []
    },
    {
      "cell_type": "code",
      "metadata": {
        "id": "rmPSuODNIfFU"
      },
      "source": [
        "from sklearn.model_selection import KFold\n",
        "\n",
        "folds = KFold(n_splits=5)\n",
        "# list of scores for each value of kfold\n",
        "scores_knn = []\n",
        "# list of accuracies for each value of k\n",
        "accuracies = []"
      ],
      "execution_count": 78,
      "outputs": []
    },
    {
      "cell_type": "code",
      "metadata": {
        "id": "0s9iNyNoQ_cN",
        "outputId": "f559d96d-a946-44d2-f38d-0c2303c17116",
        "colab": {
          "base_uri": "https://localhost:8080/"
        }
      },
      "source": [
        "from statistics import mean\n",
        "# loop over kVals\n",
        "for k in kVals:\n",
        "  #application de validation croisée (kfold k=5)sur l’ensemble d’entraînement.\n",
        "  for train_index, test_index in folds.split(trainData,trainLabels):\n",
        "    X_train, X_test, y_train, y_test = trainData[train_index], trainData[test_index],trainLabels[train_index], trainLabels[test_index]\n",
        "    # train the classifier with the current value of `k`\n",
        "    scores_knn.append(get_score(KNeighborsClassifier(n_neighbors=k), X_train, X_test, y_train, y_test))\n",
        "  print(scores_knn)\n",
        "  score=mean(scores_knn)\n",
        "  print(\"k=%d ,accuracy=%f\" % (k ,score))\n",
        "  scores_knn = []\n",
        "  accuracies.append(score)"
      ],
      "execution_count": 79,
      "outputs": [
        {
          "output_type": "stream",
          "text": [
            "[98.88888888888889, 98.14814814814815, 98.88475836431226, 99.25650557620817, 98.14126394052045]\n",
            "k=1 ,accuracy=98.663913\n",
            "[99.25925925925925, 98.14814814814815, 97.76951672862454, 99.62825278810409, 98.14126394052045]\n",
            "k=3 ,accuracy=98.589288\n",
            "[99.25925925925925, 97.77777777777777, 98.14126394052045, 98.14126394052045, 97.02602230483272]\n",
            "k=5 ,accuracy=98.069117\n",
            "[98.88888888888889, 97.4074074074074, 97.76951672862454, 98.14126394052045, 96.6542750929368]\n",
            "k=7 ,accuracy=97.772270\n",
            "[98.14814814814815, 96.66666666666667, 97.76951672862454, 98.14126394052045, 97.02602230483272]\n",
            "k=9 ,accuracy=97.550324\n"
          ],
          "name": "stdout"
        }
      ]
    },
    {
      "cell_type": "code",
      "metadata": {
        "id": "JBqbVSp6gdEV",
        "outputId": "32cf00da-18e5-4f9a-b2ad-df6d4dacfd98",
        "colab": {
          "base_uri": "https://localhost:8080/"
        }
      },
      "source": [
        "accuracies"
      ],
      "execution_count": 81,
      "outputs": [
        {
          "output_type": "execute_result",
          "data": {
            "text/plain": [
              "[98.66391298361559,\n",
              " 98.58928817293129,\n",
              " 98.06911744458213,\n",
              " 97.77227041167562,\n",
              " 97.5503235577585]"
            ]
          },
          "metadata": {
            "tags": []
          },
          "execution_count": 81
        }
      ]
    },
    {
      "cell_type": "code",
      "metadata": {
        "id": "nSO5lYw0fRvB",
        "outputId": "78578e83-0e6c-4710-b802-58b2da5f6824",
        "colab": {
          "base_uri": "https://localhost:8080/"
        }
      },
      "source": [
        "# largest accuracy\n",
        "# np.argmax returns the indices of the maximum values along an axis\n",
        "i = np.argmax(accuracies)\n",
        "print(\"k=%d achieved highest accuracy of %.2f%% on 5fold cross validation data\" % (kVals[i],\n",
        "    accuracies[i] ))"
      ],
      "execution_count": 84,
      "outputs": [
        {
          "output_type": "stream",
          "text": [
            "k=1 achieved highest accuracy of 98.66% on 5fold cross validation data\n"
          ],
          "name": "stdout"
        }
      ]
    },
    {
      "cell_type": "code",
      "metadata": {
        "id": "r2pxOFkEg8I0"
      },
      "source": [
        "# Now that I know the best value of k, re-train the classifier\n",
        "model = KNeighborsClassifier(n_neighbors=kVals[i])\n",
        "model.fit(trainData, trainLabels)\n",
        "\n",
        "# Predict labels for the test set\n",
        "predictions = model.predict(testData)"
      ],
      "execution_count": 86,
      "outputs": []
    },
    {
      "cell_type": "code",
      "metadata": {
        "id": "RGej7wYJhOyv",
        "outputId": "ae5a13c4-19a5-4b36-c873-107567885ee2",
        "colab": {
          "base_uri": "https://localhost:8080/"
        }
      },
      "source": [
        "# Evaluate performance of model for each of the digits\n",
        "print(\"EVALUATION ON TESTING DATA\")\n",
        "print(classification_report(testLabels, predictions))"
      ],
      "execution_count": 87,
      "outputs": [
        {
          "output_type": "stream",
          "text": [
            "EVALUATION ON TESTING DATA\n",
            "              precision    recall  f1-score   support\n",
            "\n",
            "           0       1.00      1.00      1.00        43\n",
            "           1       0.95      1.00      0.97        37\n",
            "           2       1.00      1.00      1.00        38\n",
            "           3       0.98      0.98      0.98        46\n",
            "           4       0.98      0.98      0.98        55\n",
            "           5       0.98      1.00      0.99        59\n",
            "           6       1.00      1.00      1.00        45\n",
            "           7       1.00      0.98      0.99        41\n",
            "           8       0.97      0.95      0.96        38\n",
            "           9       0.96      0.94      0.95        48\n",
            "\n",
            "    accuracy                           0.98       450\n",
            "   macro avg       0.98      0.98      0.98       450\n",
            "weighted avg       0.98      0.98      0.98       450\n",
            "\n"
          ],
          "name": "stdout"
        }
      ]
    }
  ]
}